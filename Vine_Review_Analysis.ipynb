{
 "cells": [
  {
   "cell_type": "code",
   "execution_count": 1,
   "metadata": {},
   "outputs": [],
   "source": [
    "import pandas as pd"
   ]
  },
  {
   "cell_type": "code",
   "execution_count": 4,
   "id": "bb3f7a2b",
   "metadata": {},
   "outputs": [
    {
     "data": {
      "text/plain": [
       "review_id            object\n",
       "star_rating           int64\n",
       "helpful_votes         int64\n",
       "total_votes           int64\n",
       "vine                 object\n",
       "verified_purchase    object\n",
       "dtype: object"
      ]
     },
     "execution_count": 4,
     "metadata": {},
     "output_type": "execute_result"
    }
   ],
   "source": [
    "# read vine table into csv\n",
    "vine_df = pd.read_csv(\"vine_table.csv\")\n",
    "vine_df.dtypes"
   ]
  },
  {
   "cell_type": "code",
   "execution_count": 16,
   "id": "7016cc49",
   "metadata": {},
   "outputs": [
    {
     "data": {
      "text/html": [
       "<div>\n",
       "<style scoped>\n",
       "    .dataframe tbody tr th:only-of-type {\n",
       "        vertical-align: middle;\n",
       "    }\n",
       "\n",
       "    .dataframe tbody tr th {\n",
       "        vertical-align: top;\n",
       "    }\n",
       "\n",
       "    .dataframe thead th {\n",
       "        text-align: right;\n",
       "    }\n",
       "</style>\n",
       "<table border=\"1\" class=\"dataframe\">\n",
       "  <thead>\n",
       "    <tr style=\"text-align: right;\">\n",
       "      <th></th>\n",
       "      <th>review_id</th>\n",
       "      <th>star_rating</th>\n",
       "      <th>helpful_votes</th>\n",
       "      <th>total_votes</th>\n",
       "      <th>vine</th>\n",
       "      <th>verified_purchase</th>\n",
       "    </tr>\n",
       "  </thead>\n",
       "  <tbody>\n",
       "    <tr>\n",
       "      <th>9</th>\n",
       "      <td>RBEMQ29WJBHYG</td>\n",
       "      <td>5</td>\n",
       "      <td>164</td>\n",
       "      <td>168</td>\n",
       "      <td>N</td>\n",
       "      <td>Y</td>\n",
       "    </tr>\n",
       "    <tr>\n",
       "      <th>83</th>\n",
       "      <td>R2JK5Y8D5MXAGP</td>\n",
       "      <td>1</td>\n",
       "      <td>5</td>\n",
       "      <td>121</td>\n",
       "      <td>N</td>\n",
       "      <td>Y</td>\n",
       "    </tr>\n",
       "    <tr>\n",
       "      <th>195</th>\n",
       "      <td>R13W3EMIUV120L</td>\n",
       "      <td>4</td>\n",
       "      <td>288</td>\n",
       "      <td>294</td>\n",
       "      <td>N</td>\n",
       "      <td>Y</td>\n",
       "    </tr>\n",
       "    <tr>\n",
       "      <th>217</th>\n",
       "      <td>R30TJ8POYNVCRE</td>\n",
       "      <td>5</td>\n",
       "      <td>15</td>\n",
       "      <td>21</td>\n",
       "      <td>N</td>\n",
       "      <td>N</td>\n",
       "    </tr>\n",
       "    <tr>\n",
       "      <th>296</th>\n",
       "      <td>R1H5Y9Z2DHRNVO</td>\n",
       "      <td>1</td>\n",
       "      <td>4</td>\n",
       "      <td>95</td>\n",
       "      <td>N</td>\n",
       "      <td>Y</td>\n",
       "    </tr>\n",
       "  </tbody>\n",
       "</table>\n",
       "</div>"
      ],
      "text/plain": [
       "          review_id  star_rating  helpful_votes  total_votes vine  \\\n",
       "9     RBEMQ29WJBHYG            5            164          168    N   \n",
       "83   R2JK5Y8D5MXAGP            1              5          121    N   \n",
       "195  R13W3EMIUV120L            4            288          294    N   \n",
       "217  R30TJ8POYNVCRE            5             15           21    N   \n",
       "296  R1H5Y9Z2DHRNVO            1              4           95    N   \n",
       "\n",
       "    verified_purchase  \n",
       "9                   Y  \n",
       "83                  Y  \n",
       "195                 Y  \n",
       "217                 N  \n",
       "296                 Y  "
      ]
     },
     "execution_count": 16,
     "metadata": {},
     "output_type": "execute_result"
    }
   ],
   "source": [
    "# get anything that has more than 20 total votes\n",
    "vine_filtered = vine_df[vine_df[\"total_votes\"] >= 20]\n",
    "vine_filtered.head()"
   ]
  },
  {
   "cell_type": "code",
   "execution_count": null,
   "id": "dab11ea2",
   "metadata": {},
   "outputs": [],
   "source": [
    "# add a new column to calulate percentage of helpful reviews and then grab anything with a 50+ helpful \n",
    "vine_filtered[\"helpful_percent\"] = (vine_filtered[\"helpful_votes\"] / vine_filtered[\"total_votes\"]) * 100\n",
    "\n",
    "vine_filtered2 = vine_filtered.loc[vine_filtered[\"helpful_percent\"] >= 50]"
   ]
  },
  {
   "cell_type": "code",
   "execution_count": 35,
   "id": "435c1f3f",
   "metadata": {},
   "outputs": [],
   "source": [
    "vine_filtered2.head()"
   ]
  },
  {
   "cell_type": "code",
   "execution_count": 26,
   "id": "4281afde",
   "metadata": {},
   "outputs": [
    {
     "data": {
      "text/html": [
       "<div>\n",
       "<style scoped>\n",
       "    .dataframe tbody tr th:only-of-type {\n",
       "        vertical-align: middle;\n",
       "    }\n",
       "\n",
       "    .dataframe tbody tr th {\n",
       "        vertical-align: top;\n",
       "    }\n",
       "\n",
       "    .dataframe thead th {\n",
       "        text-align: right;\n",
       "    }\n",
       "</style>\n",
       "<table border=\"1\" class=\"dataframe\">\n",
       "  <thead>\n",
       "    <tr style=\"text-align: right;\">\n",
       "      <th></th>\n",
       "      <th>review_id</th>\n",
       "      <th>star_rating</th>\n",
       "      <th>helpful_votes</th>\n",
       "      <th>total_votes</th>\n",
       "      <th>vine</th>\n",
       "      <th>verified_purchase</th>\n",
       "      <th>helpful_percent</th>\n",
       "    </tr>\n",
       "  </thead>\n",
       "  <tbody>\n",
       "    <tr>\n",
       "      <th>41600</th>\n",
       "      <td>R3BOQTLUU3Y4L8</td>\n",
       "      <td>4</td>\n",
       "      <td>42</td>\n",
       "      <td>55</td>\n",
       "      <td>Y</td>\n",
       "      <td>N</td>\n",
       "      <td>76.363636</td>\n",
       "    </tr>\n",
       "    <tr>\n",
       "      <th>42191</th>\n",
       "      <td>RWF03LXVXC22A</td>\n",
       "      <td>3</td>\n",
       "      <td>396</td>\n",
       "      <td>445</td>\n",
       "      <td>Y</td>\n",
       "      <td>N</td>\n",
       "      <td>88.988764</td>\n",
       "    </tr>\n",
       "    <tr>\n",
       "      <th>42845</th>\n",
       "      <td>REPU28WG1VZUE</td>\n",
       "      <td>5</td>\n",
       "      <td>242</td>\n",
       "      <td>281</td>\n",
       "      <td>Y</td>\n",
       "      <td>N</td>\n",
       "      <td>86.120996</td>\n",
       "    </tr>\n",
       "    <tr>\n",
       "      <th>43054</th>\n",
       "      <td>R1D6REC9HPJVQY</td>\n",
       "      <td>4</td>\n",
       "      <td>31</td>\n",
       "      <td>41</td>\n",
       "      <td>Y</td>\n",
       "      <td>N</td>\n",
       "      <td>75.609756</td>\n",
       "    </tr>\n",
       "  </tbody>\n",
       "</table>\n",
       "</div>"
      ],
      "text/plain": [
       "            review_id  star_rating  helpful_votes  total_votes vine  \\\n",
       "41600  R3BOQTLUU3Y4L8            4             42           55    Y   \n",
       "42191   RWF03LXVXC22A            3            396          445    Y   \n",
       "42845   REPU28WG1VZUE            5            242          281    Y   \n",
       "43054  R1D6REC9HPJVQY            4             31           41    Y   \n",
       "\n",
       "      verified_purchase  helpful_percent  \n",
       "41600                 N        76.363636  \n",
       "42191                 N        88.988764  \n",
       "42845                 N        86.120996  \n",
       "43054                 N        75.609756  "
      ]
     },
     "execution_count": 26,
     "metadata": {},
     "output_type": "execute_result"
    }
   ],
   "source": [
    "# filter anything that used vine \n",
    "vine_yes = vine_filtered2[vine_filtered2[\"vine\"] == \"Y\"]\n",
    "vine_yes.head()"
   ]
  },
  {
   "cell_type": "code",
   "execution_count": 27,
   "id": "8d16ca21",
   "metadata": {},
   "outputs": [
    {
     "data": {
      "text/html": [
       "<div>\n",
       "<style scoped>\n",
       "    .dataframe tbody tr th:only-of-type {\n",
       "        vertical-align: middle;\n",
       "    }\n",
       "\n",
       "    .dataframe tbody tr th {\n",
       "        vertical-align: top;\n",
       "    }\n",
       "\n",
       "    .dataframe thead th {\n",
       "        text-align: right;\n",
       "    }\n",
       "</style>\n",
       "<table border=\"1\" class=\"dataframe\">\n",
       "  <thead>\n",
       "    <tr style=\"text-align: right;\">\n",
       "      <th></th>\n",
       "      <th>review_id</th>\n",
       "      <th>star_rating</th>\n",
       "      <th>helpful_votes</th>\n",
       "      <th>total_votes</th>\n",
       "      <th>vine</th>\n",
       "      <th>verified_purchase</th>\n",
       "      <th>helpful_percent</th>\n",
       "    </tr>\n",
       "  </thead>\n",
       "  <tbody>\n",
       "    <tr>\n",
       "      <th>9</th>\n",
       "      <td>RBEMQ29WJBHYG</td>\n",
       "      <td>5</td>\n",
       "      <td>164</td>\n",
       "      <td>168</td>\n",
       "      <td>N</td>\n",
       "      <td>Y</td>\n",
       "      <td>97.619048</td>\n",
       "    </tr>\n",
       "    <tr>\n",
       "      <th>195</th>\n",
       "      <td>R13W3EMIUV120L</td>\n",
       "      <td>4</td>\n",
       "      <td>288</td>\n",
       "      <td>294</td>\n",
       "      <td>N</td>\n",
       "      <td>Y</td>\n",
       "      <td>97.959184</td>\n",
       "    </tr>\n",
       "    <tr>\n",
       "      <th>217</th>\n",
       "      <td>R30TJ8POYNVCRE</td>\n",
       "      <td>5</td>\n",
       "      <td>15</td>\n",
       "      <td>21</td>\n",
       "      <td>N</td>\n",
       "      <td>N</td>\n",
       "      <td>71.428571</td>\n",
       "    </tr>\n",
       "    <tr>\n",
       "      <th>530</th>\n",
       "      <td>R1LK03P7BCJEJD</td>\n",
       "      <td>1</td>\n",
       "      <td>31</td>\n",
       "      <td>35</td>\n",
       "      <td>N</td>\n",
       "      <td>Y</td>\n",
       "      <td>88.571429</td>\n",
       "    </tr>\n",
       "    <tr>\n",
       "      <th>625</th>\n",
       "      <td>RBXUICKGHL685</td>\n",
       "      <td>1</td>\n",
       "      <td>48</td>\n",
       "      <td>52</td>\n",
       "      <td>N</td>\n",
       "      <td>N</td>\n",
       "      <td>92.307692</td>\n",
       "    </tr>\n",
       "  </tbody>\n",
       "</table>\n",
       "</div>"
      ],
      "text/plain": [
       "          review_id  star_rating  helpful_votes  total_votes vine  \\\n",
       "9     RBEMQ29WJBHYG            5            164          168    N   \n",
       "195  R13W3EMIUV120L            4            288          294    N   \n",
       "217  R30TJ8POYNVCRE            5             15           21    N   \n",
       "530  R1LK03P7BCJEJD            1             31           35    N   \n",
       "625   RBXUICKGHL685            1             48           52    N   \n",
       "\n",
       "    verified_purchase  helpful_percent  \n",
       "9                   Y        97.619048  \n",
       "195                 Y        97.959184  \n",
       "217                 N        71.428571  \n",
       "530                 Y        88.571429  \n",
       "625                 N        92.307692  "
      ]
     },
     "execution_count": 27,
     "metadata": {},
     "output_type": "execute_result"
    }
   ],
   "source": [
    "# filter anything that didn't use vine \n",
    "vine_no = vine_filtered2[vine_filtered2[\"vine\"] == \"N\"]\n",
    "vine_no.head()"
   ]
  },
  {
   "cell_type": "code",
   "execution_count": 42,
   "id": "d514ca00",
   "metadata": {},
   "outputs": [
    {
     "name": "stdout",
     "output_type": "stream",
     "text": [
      "1\n",
      "the number of 5 star reviews was 1 and the percentage was 25.0\n"
     ]
    }
   ],
   "source": [
    "vine_yes_total = len(vine_yes)\n",
    "vine_yes_5 = len(vine_yes[vine_yes[\"star_rating\"] == 5])\n",
    "print(vine_yes_5)\n",
    "\n",
    "vine_yes_5_percent = (vine_yes_5 / vine_yes_total) * 100\n",
    "\n",
    "print(f\"the number of 5 star reviews was {vine_yes_5} and the percentage was {vine_yes_5_percent}\")"
   ]
  },
  {
   "cell_type": "code",
   "execution_count": 43,
   "id": "029d3710",
   "metadata": {},
   "outputs": [
    {
     "name": "stdout",
     "output_type": "stream",
     "text": [
      "527\n",
      "the number of 5 star reviews was 527 and the percentage was 49.53007518796993\n"
     ]
    }
   ],
   "source": [
    "vine_no_total = len(vine_no)\n",
    "vine_no_5 = len(vine_no[vine_no[\"star_rating\"] == 5])\n",
    "print(vine_no_5)\n",
    "\n",
    "vine_no_5_percent = (vine_no_5 / vine_no_total) * 100\n",
    "\n",
    "print(f\"the number of 5 star reviews was {vine_no_5} and the percentage was {vine_no_5_percent}\")"
   ]
  },
  {
   "cell_type": "code",
   "execution_count": null,
   "id": "5e2631e7",
   "metadata": {},
   "outputs": [],
   "source": []
  }
 ],
 "metadata": {
  "interpreter": {
   "hash": "0ec85c859c3720d7d8e50ba32858d4de42426f3e5c3319b75935072741acee21"
  },
  "kernelspec": {
   "display_name": "Python 3.7.10 64-bit ('PythonData': conda)",
   "language": "python",
   "name": "python3"
  },
  "language_info": {
   "codemirror_mode": {
    "name": "ipython",
    "version": 3
   },
   "file_extension": ".py",
   "mimetype": "text/x-python",
   "name": "python",
   "nbconvert_exporter": "python",
   "pygments_lexer": "ipython3",
   "version": "3.7.10"
  }
 },
 "nbformat": 4,
 "nbformat_minor": 5
}
